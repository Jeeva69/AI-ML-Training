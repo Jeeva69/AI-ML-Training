{
 "cells": [
  {
   "cell_type": "code",
   "execution_count": 26,
   "id": "db2b71ce-f6b0-4c54-b127-fe508e83063e",
   "metadata": {},
   "outputs": [],
   "source": [
    "import numpy as np"
   ]
  },
  {
   "cell_type": "code",
   "execution_count": 27,
   "id": "278f9b09-b95f-4fee-b8e0-3953763dbd20",
   "metadata": {},
   "outputs": [
    {
     "name": "stdin",
     "output_type": "stream",
     "text": [
      " 1\n"
     ]
    }
   ],
   "source": [
    "# Number of test cases\n",
    "t = int(input())"
   ]
  },
  {
   "cell_type": "code",
   "execution_count": 28,
   "id": "3b3d648c-25ac-4d95-bdc4-7841b7326cd3",
   "metadata": {},
   "outputs": [
    {
     "name": "stdin",
     "output_type": "stream",
     "text": [
      "  0 0 3 0 2 4 2 2 2 2\n"
     ]
    }
   ],
   "source": [
    "for test in range(t):\n",
    "    # Input numpy array for each test case\n",
    "    arr = np.array(list(map(int, input().split())))"
   ]
  },
  {
   "cell_type": "code",
   "execution_count": 30,
   "id": "29f20a29-5244-4b27-aa3b-c1067772c250",
   "metadata": {},
   "outputs": [],
   "source": [
    "  # Use np.unique to find indices of first occurrences\n",
    "_, first_indices = np.unique(arr, return_index=True)"
   ]
  },
  {
   "cell_type": "code",
   "execution_count": 32,
   "id": "fa880168-5266-46bc-9049-72a23d8f917d",
   "metadata": {},
   "outputs": [],
   "source": [
    " # Initialize all elements as True (considered duplicates)\n",
    " is_duplicate = np.full(arr.shape, True, dtype=bool)\n",
    "\n",
    "    # Set the first occurrence positions to False (not duplicates)\n",
    " is_duplicate[first_indices] = False\n"
   ]
  },
  {
   "cell_type": "code",
   "execution_count": 34,
   "id": "ec4ccff4-da4c-4aae-9d8f-60f841bf80af",
   "metadata": {},
   "outputs": [
    {
     "name": "stdout",
     "output_type": "stream",
     "text": [
      "[False  True False  True False False  True  True  True  True]\n"
     ]
    }
   ],
   "source": [
    "  # Print the result\n",
    " print(is_duplicate)"
   ]
  }
 ],
 "metadata": {
  "kernelspec": {
   "display_name": "Python 3 (ipykernel)",
   "language": "python",
   "name": "python3"
  },
  "language_info": {
   "codemirror_mode": {
    "name": "ipython",
    "version": 3
   },
   "file_extension": ".py",
   "mimetype": "text/x-python",
   "name": "python",
   "nbconvert_exporter": "python",
   "pygments_lexer": "ipython3",
   "version": "3.13.5"
  }
 },
 "nbformat": 4,
 "nbformat_minor": 5
}
