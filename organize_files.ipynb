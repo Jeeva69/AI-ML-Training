{
 "cells": [
  {
   "cell_type": "code",
   "execution_count": 5,
   "id": "5fa7fa20-66e5-46c8-af31-0a32818f93c2",
   "metadata": {},
   "outputs": [],
   "source": [
    "import os\n",
    "import shutil"
   ]
  },
  {
   "cell_type": "code",
   "execution_count": 6,
   "id": "20d7ac7b-9b7a-4df8-a59c-e7043c6c708a",
   "metadata": {},
   "outputs": [],
   "source": [
    "def organize_files(folder_path):\n",
    "    for filename in os.listdir(folder_path):\n",
    "        file_path = os.path.join(folder_path, filename)\n",
    "        if os.path.isfile(file_path):\n",
    "            _, ext = os.path.splitext(filename)\n",
    "            ext = ext[1:].upper()  # Remove '.' and capitalize\n",
    "            if not ext:\n",
    "                continue\n",
    "            dest_folder = os.path.join(folder_path, ext)\n",
    "            os.makedirs(dest_folder, exist_ok=True)\n",
    "            shutil.move(file_path, os.path.join(dest_folder, filename))"
   ]
  },
  {
   "cell_type": "code",
   "execution_count": 11,
   "id": "455cfc53-72b2-4539-8d7a-77a121c889d9",
   "metadata": {},
   "outputs": [],
   "source": [
    "organize_files(r\"C:\\Users\\farit\\Downloads\")"
   ]
  }
 ],
 "metadata": {
  "kernelspec": {
   "display_name": "Python 3 (ipykernel)",
   "language": "python",
   "name": "python3"
  },
  "language_info": {
   "codemirror_mode": {
    "name": "ipython",
    "version": 3
   },
   "file_extension": ".py",
   "mimetype": "text/x-python",
   "name": "python",
   "nbconvert_exporter": "python",
   "pygments_lexer": "ipython3",
   "version": "3.13.5"
  }
 },
 "nbformat": 4,
 "nbformat_minor": 5
}
